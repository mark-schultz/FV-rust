{
 "cells": [
  {
   "cell_type": "markdown",
   "metadata": {},
   "source": [
    "A Sage notebook to generate test cases for Cyclotomic Ring operations, mostly multiplication."
   ]
  },
  {
   "cell_type": "code",
   "execution_count": 29,
   "metadata": {},
   "outputs": [],
   "source": [
    "DEGREE_EXP = 10\n",
    "DEGREE = 1<<DEGREE_EXP\n",
    "\n",
    "Z = IntegerRing()\n",
    "R = PolynomialRing(Z, 'x'); y = R.gen()\n",
    "S = R.quotient(y^DEGREE + 1, 'x'); x = S.gen()\n",
    "\n",
    "\"\"\"\n",
    "A random polynomial, where coefficients are drawn\n",
    "from [0, bound]\n",
    "\"\"\"\n",
    "def rand_poly(bound):\n",
    "    coeffs = [randint(0, bound) for _ in range(DEGREE)]\n",
    "    return S(coeffs)"
   ]
  },
  {
   "cell_type": "code",
   "execution_count": 33,
   "metadata": {},
   "outputs": [],
   "source": [
    "NUM_TESTS = 10\n",
    "\n",
    "with open(\"add_test_cases.txt\", \"w\") as outF:\n",
    "    for _ in range(NUM_TESTS):\n",
    "        p1 = rand_poly(10)\n",
    "        p2 = rand_poly(10)\n",
    "        p3 = p1+p2\n",
    "    \n",
    "        outF.write(\"\\n\".join([str(p1.list()), str(p2.list()), str(p3.list())]))\n",
    "        outF.write(\"\\n\")\n",
    "\n",
    "with open(\"mul_test_cases.txt\", \"w\") as outF:\n",
    "    for _ in range(NUM_TESTS):\n",
    "        p1 = rand_poly(10)\n",
    "        p2 = rand_poly(10)\n",
    "        p3 = p1*p2\n",
    "    \n",
    "        outF.write(\"\\n\".join([str(p1.list()), str(p2.list()), str(p3.list())]))\n",
    "        outF.write(\"\\n\")"
   ]
  },
  {
   "cell_type": "code",
   "execution_count": 44,
   "metadata": {},
   "outputs": [
    {
     "data": {
      "text/plain": [
       "2"
      ]
     },
     "execution_count": 44,
     "metadata": {},
     "output_type": "execute_result"
    }
   ],
   "source": [
    "(5)>>1"
   ]
  },
  {
   "cell_type": "code",
   "execution_count": 38,
   "metadata": {},
   "outputs": [
    {
     "data": {
      "text/plain": [
       "-11/2"
      ]
     },
     "execution_count": 38,
     "metadata": {},
     "output_type": "execute_result"
    }
   ],
   "source": [
    "-11/2"
   ]
  },
  {
   "cell_type": "code",
   "execution_count": null,
   "metadata": {},
   "outputs": [],
   "source": []
  },
  {
   "cell_type": "code",
   "execution_count": null,
   "metadata": {},
   "outputs": [],
   "source": []
  }
 ],
 "metadata": {
  "kernelspec": {
   "display_name": "SageMath 9.0",
   "language": "sage",
   "name": "sagemath"
  },
  "language_info": {
   "codemirror_mode": {
    "name": "ipython",
    "version": 3
   },
   "file_extension": ".py",
   "mimetype": "text/x-python",
   "name": "python",
   "nbconvert_exporter": "python",
   "pygments_lexer": "ipython3",
   "version": "3.8.10"
  }
 },
 "nbformat": 4,
 "nbformat_minor": 4
}
